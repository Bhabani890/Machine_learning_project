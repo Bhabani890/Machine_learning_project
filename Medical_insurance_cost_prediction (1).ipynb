{
 "cells": [
  {
   "cell_type": "markdown",
   "id": "f3a5d878",
   "metadata": {},
   "source": [
    "## Introduction:"
   ]
  },
  {
   "cell_type": "markdown",
   "id": "ac708886",
   "metadata": {},
   "source": [
    "In the realm of modern healthcare, medical insurance plays a vital role in providing financial security and access to essential healthcare services for individuals and their families. The cost of medical insurance is influenced by a multitude of factors, including age, gender, BMI (Body Mass Index), smoking habits, region of residence, and other health-related attributes. Predicting the medical insurance cost accurately can significantly benefit insurance companies by streamlining pricing strategies and providing prospective clients with more precise premium estimates.\n",
    "\n",
    "In this machine learning project, we aim to develop an automatic system that can predict the medical insurance cost for an individual based on their relevant attributes. By leveraging a dataset of historical medical insurance records, we will employ various machine learning methods to build a predictive model. This model will enable the insurance company to estimate insurance costs effectively and enhance decision-making processes related to insurance premiums.\n"
   ]
  },
  {
   "cell_type": "markdown",
   "id": "c87777b5",
   "metadata": {},
   "source": [
    "### Objectives:"
   ]
  },
  {
   "cell_type": "markdown",
   "id": "306c5276",
   "metadata": {},
   "source": [
    "The primary objective of this machine learning project is to create a robust and accurate predictive model that can forecast the medical insurance cost for individuals. \n",
    "\n",
    "The project's objectives is aim to equip the insurance company with an automated tool that enables more accurate and transparent medical insurance cost estimation. This will not only benefit the company in optimizing pricing strategies but also enhance customer satisfaction by providing potential clients with personalized and reliable insurance premium estimates.\n"
   ]
  },
  {
   "cell_type": "markdown",
   "id": "c3942666",
   "metadata": {},
   "source": [
    "#### Summarized Workflow for Medical Insurance Cost Prediction Project:"
   ]
  },
  {
   "cell_type": "markdown",
   "id": "96363401",
   "metadata": {},
   "source": [
    "Data Collection: Gather a comprehensive dataset containing historical medical insurance records, including attributes such as age, gender, BMI, smoking habits, region of residence, and medical insurance cost.\n",
    "\n",
    "Data Analysis: Conduct exploratory data analysis (EDA) to gain insights into the dataset's structure, distribution, and relationships between different attributes. Identify any patterns or trends that could influence medical insurance costs.\n",
    "\n",
    "Data Pre-processing: Cleanse the dataset by handling missing values, dealing with outliers, and addressing any data inconsistencies. Transform categorical variables into numerical representations using techniques like one-hot encoding.\n",
    "\n",
    "Train-Test Split: Divide the pre-processed dataset into training and testing subsets. The training set will be used to train the machine learning model, while the testing set will be used to evaluate its performance.\n",
    "\n",
    "Linear Regression Model: Choose linear regression as the initial predictive model for medical insurance cost prediction due to its simplicity and interpretability. Implement the linear regression algorithm using appropriate libraries in Python.\n",
    "\n",
    "Train the Linear Regression Model: Fit the linear regression model to the training data to learn the relationship between the input attributes and the target variable (medical insurance cost). The model will learn the coefficients for each feature during this training process."
   ]
  },
  {
   "cell_type": "code",
   "execution_count": 1,
   "id": "bf86411f",
   "metadata": {},
   "outputs": [],
   "source": [
    "import numpy as np\n",
    "import pandas as pd                  # use to manipulate and analyze data efficiently using data structures like DataFrames\n",
    "import matplotlib.pyplot as plt      # use to visualize data and model results through various plots and charts\n",
    "import seaborn as sns                # use to create visually appealing and informative statistical data visualizations\n",
    "\n",
    "from sklearn.model_selection import train_test_split     # is to split the dataset into separate training and testing subsets, \n",
    "                                                         #allowing the model to be trained on one part and evaluated on another \n",
    "                                                         # to assess its performance accurately.\n",
    "    \n",
    "from sklearn.linear_model import LinearRegression        # is to bring in the Linear Regression algorithm from a library, \n",
    "                                                         # enabling the creation of a linear regression model for predictive \n",
    "                                                         # analysis.\n",
    "    \n",
    "from sklearn import metrics                              # is used to calculate and evaluate various performance metrics, \n",
    "                                                         # such as accuracy, precision, recall, and F1-score, to assess the \n",
    "                                                         # effectiveness of machine learning models."
   ]
  },
  {
   "cell_type": "markdown",
   "id": "bacfab05",
   "metadata": {},
   "source": [
    "### Data Collection & Analysis"
   ]
  },
  {
   "cell_type": "code",
   "execution_count": 2,
   "id": "9abea721",
   "metadata": {},
   "outputs": [],
   "source": [
    "in_dt = pd.read_csv('Health_insurance.csv')"
   ]
  },
  {
   "cell_type": "code",
   "execution_count": 4,
   "id": "9de6fe4d",
   "metadata": {},
   "outputs": [
    {
     "data": {
      "text/html": [
       "<div>\n",
       "<style scoped>\n",
       "    .dataframe tbody tr th:only-of-type {\n",
       "        vertical-align: middle;\n",
       "    }\n",
       "\n",
       "    .dataframe tbody tr th {\n",
       "        vertical-align: top;\n",
       "    }\n",
       "\n",
       "    .dataframe thead th {\n",
       "        text-align: right;\n",
       "    }\n",
       "</style>\n",
       "<table border=\"1\" class=\"dataframe\">\n",
       "  <thead>\n",
       "    <tr style=\"text-align: right;\">\n",
       "      <th></th>\n",
       "      <th>age</th>\n",
       "      <th>sex</th>\n",
       "      <th>bmi</th>\n",
       "      <th>children</th>\n",
       "      <th>smoker</th>\n",
       "      <th>region</th>\n",
       "      <th>charges</th>\n",
       "    </tr>\n",
       "  </thead>\n",
       "  <tbody>\n",
       "    <tr>\n",
       "      <th>0</th>\n",
       "      <td>19</td>\n",
       "      <td>female</td>\n",
       "      <td>27.900</td>\n",
       "      <td>0</td>\n",
       "      <td>yes</td>\n",
       "      <td>southwest</td>\n",
       "      <td>16884.92400</td>\n",
       "    </tr>\n",
       "    <tr>\n",
       "      <th>1</th>\n",
       "      <td>18</td>\n",
       "      <td>male</td>\n",
       "      <td>33.770</td>\n",
       "      <td>1</td>\n",
       "      <td>no</td>\n",
       "      <td>southeast</td>\n",
       "      <td>1725.55230</td>\n",
       "    </tr>\n",
       "    <tr>\n",
       "      <th>2</th>\n",
       "      <td>28</td>\n",
       "      <td>male</td>\n",
       "      <td>33.000</td>\n",
       "      <td>3</td>\n",
       "      <td>no</td>\n",
       "      <td>southeast</td>\n",
       "      <td>4449.46200</td>\n",
       "    </tr>\n",
       "    <tr>\n",
       "      <th>3</th>\n",
       "      <td>33</td>\n",
       "      <td>male</td>\n",
       "      <td>22.705</td>\n",
       "      <td>0</td>\n",
       "      <td>no</td>\n",
       "      <td>northwest</td>\n",
       "      <td>21984.47061</td>\n",
       "    </tr>\n",
       "    <tr>\n",
       "      <th>4</th>\n",
       "      <td>32</td>\n",
       "      <td>male</td>\n",
       "      <td>28.880</td>\n",
       "      <td>0</td>\n",
       "      <td>no</td>\n",
       "      <td>northwest</td>\n",
       "      <td>3866.85520</td>\n",
       "    </tr>\n",
       "    <tr>\n",
       "      <th>5</th>\n",
       "      <td>31</td>\n",
       "      <td>female</td>\n",
       "      <td>25.740</td>\n",
       "      <td>0</td>\n",
       "      <td>no</td>\n",
       "      <td>southeast</td>\n",
       "      <td>3756.62160</td>\n",
       "    </tr>\n",
       "    <tr>\n",
       "      <th>6</th>\n",
       "      <td>46</td>\n",
       "      <td>female</td>\n",
       "      <td>33.440</td>\n",
       "      <td>1</td>\n",
       "      <td>no</td>\n",
       "      <td>southeast</td>\n",
       "      <td>8240.58960</td>\n",
       "    </tr>\n",
       "    <tr>\n",
       "      <th>7</th>\n",
       "      <td>37</td>\n",
       "      <td>female</td>\n",
       "      <td>27.740</td>\n",
       "      <td>3</td>\n",
       "      <td>no</td>\n",
       "      <td>northwest</td>\n",
       "      <td>7281.50560</td>\n",
       "    </tr>\n",
       "    <tr>\n",
       "      <th>8</th>\n",
       "      <td>37</td>\n",
       "      <td>male</td>\n",
       "      <td>29.830</td>\n",
       "      <td>2</td>\n",
       "      <td>no</td>\n",
       "      <td>northeast</td>\n",
       "      <td>6406.41070</td>\n",
       "    </tr>\n",
       "    <tr>\n",
       "      <th>9</th>\n",
       "      <td>60</td>\n",
       "      <td>female</td>\n",
       "      <td>25.840</td>\n",
       "      <td>0</td>\n",
       "      <td>no</td>\n",
       "      <td>northwest</td>\n",
       "      <td>28923.13692</td>\n",
       "    </tr>\n",
       "  </tbody>\n",
       "</table>\n",
       "</div>"
      ],
      "text/plain": [
       "   age     sex     bmi  children smoker     region      charges\n",
       "0   19  female  27.900         0    yes  southwest  16884.92400\n",
       "1   18    male  33.770         1     no  southeast   1725.55230\n",
       "2   28    male  33.000         3     no  southeast   4449.46200\n",
       "3   33    male  22.705         0     no  northwest  21984.47061\n",
       "4   32    male  28.880         0     no  northwest   3866.85520\n",
       "5   31  female  25.740         0     no  southeast   3756.62160\n",
       "6   46  female  33.440         1     no  southeast   8240.58960\n",
       "7   37  female  27.740         3     no  northwest   7281.50560\n",
       "8   37    male  29.830         2     no  northeast   6406.41070\n",
       "9   60  female  25.840         0     no  northwest  28923.13692"
      ]
     },
     "execution_count": 4,
     "metadata": {},
     "output_type": "execute_result"
    }
   ],
   "source": [
    "in_dt.head(10)"
   ]
  },
  {
   "cell_type": "code",
   "execution_count": 5,
   "id": "82389523",
   "metadata": {},
   "outputs": [
    {
     "data": {
      "text/plain": [
       "(1338, 7)"
      ]
     },
     "execution_count": 5,
     "metadata": {},
     "output_type": "execute_result"
    }
   ],
   "source": [
    "in_dt.shape             # no of rows and columns"
   ]
  },
  {
   "cell_type": "code",
   "execution_count": 23,
   "id": "6128f196",
   "metadata": {},
   "outputs": [
    {
     "name": "stdout",
     "output_type": "stream",
     "text": [
      "<class 'pandas.core.frame.DataFrame'>\n",
      "RangeIndex: 1338 entries, 0 to 1337\n",
      "Data columns (total 7 columns):\n",
      " #   Column    Non-Null Count  Dtype  \n",
      "---  ------    --------------  -----  \n",
      " 0   age       1338 non-null   int64  \n",
      " 1   sex       1338 non-null   object \n",
      " 2   bmi       1338 non-null   float64\n",
      " 3   children  1338 non-null   int64  \n",
      " 4   smoker    1338 non-null   object \n",
      " 5   region    1338 non-null   object \n",
      " 6   charges   1338 non-null   float64\n",
      "dtypes: float64(2), int64(2), object(3)\n",
      "memory usage: 73.3+ KB\n"
     ]
    }
   ],
   "source": [
    "in_dt.info()"
   ]
  },
  {
   "cell_type": "markdown",
   "id": "49cf7317",
   "metadata": {},
   "source": [
    "Categorical Features:\n",
    "\n",
    "Sex\n",
    "\n",
    "Smoker\n",
    "\n",
    "Region\n"
   ]
  },
  {
   "cell_type": "code",
   "execution_count": 6,
   "id": "edc70d07",
   "metadata": {},
   "outputs": [
    {
     "data": {
      "text/plain": [
       "age         0\n",
       "sex         0\n",
       "bmi         0\n",
       "children    0\n",
       "smoker      0\n",
       "region      0\n",
       "charges     0\n",
       "dtype: int64"
      ]
     },
     "execution_count": 6,
     "metadata": {},
     "output_type": "execute_result"
    }
   ],
   "source": [
    "in_dt.isnull().sum()"
   ]
  },
  {
   "cell_type": "code",
   "execution_count": 7,
   "id": "9e8b078d",
   "metadata": {},
   "outputs": [
    {
     "data": {
      "text/html": [
       "<div>\n",
       "<style scoped>\n",
       "    .dataframe tbody tr th:only-of-type {\n",
       "        vertical-align: middle;\n",
       "    }\n",
       "\n",
       "    .dataframe tbody tr th {\n",
       "        vertical-align: top;\n",
       "    }\n",
       "\n",
       "    .dataframe thead th {\n",
       "        text-align: right;\n",
       "    }\n",
       "</style>\n",
       "<table border=\"1\" class=\"dataframe\">\n",
       "  <thead>\n",
       "    <tr style=\"text-align: right;\">\n",
       "      <th></th>\n",
       "      <th>age</th>\n",
       "      <th>bmi</th>\n",
       "      <th>children</th>\n",
       "      <th>charges</th>\n",
       "    </tr>\n",
       "  </thead>\n",
       "  <tbody>\n",
       "    <tr>\n",
       "      <th>count</th>\n",
       "      <td>1338.000000</td>\n",
       "      <td>1338.000000</td>\n",
       "      <td>1338.000000</td>\n",
       "      <td>1338.000000</td>\n",
       "    </tr>\n",
       "    <tr>\n",
       "      <th>mean</th>\n",
       "      <td>39.207025</td>\n",
       "      <td>30.663397</td>\n",
       "      <td>1.094918</td>\n",
       "      <td>13270.422265</td>\n",
       "    </tr>\n",
       "    <tr>\n",
       "      <th>std</th>\n",
       "      <td>14.049960</td>\n",
       "      <td>6.098187</td>\n",
       "      <td>1.205493</td>\n",
       "      <td>12110.011237</td>\n",
       "    </tr>\n",
       "    <tr>\n",
       "      <th>min</th>\n",
       "      <td>18.000000</td>\n",
       "      <td>15.960000</td>\n",
       "      <td>0.000000</td>\n",
       "      <td>1121.873900</td>\n",
       "    </tr>\n",
       "    <tr>\n",
       "      <th>25%</th>\n",
       "      <td>27.000000</td>\n",
       "      <td>26.296250</td>\n",
       "      <td>0.000000</td>\n",
       "      <td>4740.287150</td>\n",
       "    </tr>\n",
       "    <tr>\n",
       "      <th>50%</th>\n",
       "      <td>39.000000</td>\n",
       "      <td>30.400000</td>\n",
       "      <td>1.000000</td>\n",
       "      <td>9382.033000</td>\n",
       "    </tr>\n",
       "    <tr>\n",
       "      <th>75%</th>\n",
       "      <td>51.000000</td>\n",
       "      <td>34.693750</td>\n",
       "      <td>2.000000</td>\n",
       "      <td>16639.912515</td>\n",
       "    </tr>\n",
       "    <tr>\n",
       "      <th>max</th>\n",
       "      <td>64.000000</td>\n",
       "      <td>53.130000</td>\n",
       "      <td>5.000000</td>\n",
       "      <td>63770.428010</td>\n",
       "    </tr>\n",
       "  </tbody>\n",
       "</table>\n",
       "</div>"
      ],
      "text/plain": [
       "               age          bmi     children       charges\n",
       "count  1338.000000  1338.000000  1338.000000   1338.000000\n",
       "mean     39.207025    30.663397     1.094918  13270.422265\n",
       "std      14.049960     6.098187     1.205493  12110.011237\n",
       "min      18.000000    15.960000     0.000000   1121.873900\n",
       "25%      27.000000    26.296250     0.000000   4740.287150\n",
       "50%      39.000000    30.400000     1.000000   9382.033000\n",
       "75%      51.000000    34.693750     2.000000  16639.912515\n",
       "max      64.000000    53.130000     5.000000  63770.428010"
      ]
     },
     "execution_count": 7,
     "metadata": {},
     "output_type": "execute_result"
    }
   ],
   "source": [
    "in_dt.describe()"
   ]
  },
  {
   "cell_type": "code",
   "execution_count": 9,
   "id": "4b54c523",
   "metadata": {},
   "outputs": [
    {
     "name": "stderr",
     "output_type": "stream",
     "text": [
      "C:\\Users\\Bhabani Sankar\\anaconda3\\lib\\site-packages\\seaborn\\distributions.py:2619: FutureWarning: `distplot` is a deprecated function and will be removed in a future version. Please adapt your code to use either `displot` (a figure-level function with similar flexibility) or `histplot` (an axes-level function for histograms).\n",
      "  warnings.warn(msg, FutureWarning)\n"
     ]
    },
    {
     "data": {
      "image/png": "[encoded data removed]",
      "text/plain": [
       "<Figure size 504x504 with 1 Axes>"
      ]
     },
     "metadata": {},
     "output_type": "display_data"
    }
   ],
   "source": [
    "# distribution of age value\n",
    "\n",
    "sns.set()\n",
    "plt.figure(figsize=(7,7))\n",
    "sns.distplot(in_dt['age'])\n",
    "plt.title('Age Distribution')\n",
    "plt.show()\n"
   ]
  },
  {
   "cell_type": "markdown",
   "id": "a1a5f1ad",
   "metadata": {},
   "source": [
    "From this graph we see that most of the peoples are in range of 18-22 years.\n",
    "\n",
    "Rest of all age group peoples have almost same numbers."
   ]
  },
  {
   "cell_type": "code",
   "execution_count": 11,
   "id": "485a0b84",
   "metadata": {},
   "outputs": [
    {
     "data": {
      "image/png": "[encoded data removed]",
      "text/plain": [
       "<Figure size 504x504 with 1 Axes>"
      ]
     },
     "metadata": {},
     "output_type": "display_data"
    }
   ],
   "source": [
    "# Gender column\n",
    "\n",
    "plt.figure(figsize=(7,7))\n",
    "ax=sns.countplot(x='sex', data= in_dt)\n",
    "plt.title('Sex Distribution')\n",
    "\n",
    "for bars in ax.containers:\n",
    "    ax.bar_label(bars)\n",
    "plt.show()"
   ]
  },
  {
   "cell_type": "markdown",
   "id": "b77e2229",
   "metadata": {},
   "source": [
    "There are almost same numbers of both male and female in the given dataset."
   ]
  },
  {
   "cell_type": "code",
   "execution_count": 14,
   "id": "a8d24f1e",
   "metadata": {},
   "outputs": [
    {
     "name": "stderr",
     "output_type": "stream",
     "text": [
      "C:\\Users\\Bhabani Sankar\\anaconda3\\lib\\site-packages\\seaborn\\distributions.py:2619: FutureWarning: `distplot` is a deprecated function and will be removed in a future version. Please adapt your code to use either `displot` (a figure-level function with similar flexibility) or `histplot` (an axes-level function for histograms).\n",
      "  warnings.warn(msg, FutureWarning)\n"
     ]
    },
    {
     "data": {
      "image/png": "[encoded data removed]",
      "text/plain": [
       "<Figure size 504x504 with 1 Axes>"
      ]
     },
     "metadata": {},
     "output_type": "display_data"
    }
   ],
   "source": [
    "# bmi distribution\n",
    "\n",
    "plt.figure(figsize=(7,7))\n",
    "sns.distplot(in_dt['bmi'])\n",
    "plt.title('BMI Distribution')\n",
    "plt.show()"
   ]
  },
  {
   "cell_type": "markdown",
   "id": "9a826c4c",
   "metadata": {},
   "source": [
    "This is a normal distribution of bmi. \n",
    "\n",
    "Normal BMI Range --> 18.5 to 24.9\n",
    "\n",
    "But in this figure bmi of 25-35 range has highest density. That may be affected the insurance cost of a person."
   ]
  },
  {
   "cell_type": "code",
   "execution_count": 16,
   "id": "7254d6d5",
   "metadata": {},
   "outputs": [
    {
     "data": {
      "image/png": "[encoded data removed]",
      "text/plain": [
       "<Figure size 504x504 with 1 Axes>"
      ]
     },
     "metadata": {},
     "output_type": "display_data"
    }
   ],
   "source": [
    "# children column\n",
    "\n",
    "plt.figure(figsize=(7,7))\n",
    "sns.countplot(x='children', data= in_dt)\n",
    "plt.title('Children')\n",
    "plt.show()"
   ]
  },
  {
   "cell_type": "code",
   "execution_count": 18,
   "id": "b2c5826c",
   "metadata": {},
   "outputs": [
    {
     "data": {
      "text/plain": [
       "0    574\n",
       "1    324\n",
       "2    240\n",
       "3    157\n",
       "4     25\n",
       "5     18\n",
       "Name: children, dtype: int64"
      ]
     },
     "execution_count": 18,
     "metadata": {},
     "output_type": "execute_result"
    }
   ],
   "source": [
    "in_dt['children'].value_counts()"
   ]
  },
  {
   "cell_type": "markdown",
   "id": "a2e075c8",
   "metadata": {},
   "source": [
    "From this figure we find that most of people doesn't have children."
   ]
  },
  {
   "cell_type": "code",
   "execution_count": 20,
   "id": "4140c2c3",
   "metadata": {},
   "outputs": [
    {
     "data": {
      "image/png": "[encoded data removed]",
      "text/plain": [
       "<Figure size 504x504 with 1 Axes>"
      ]
     },
     "metadata": {},
     "output_type": "display_data"
    }
   ],
   "source": [
    "# smoker column\n",
    "\n",
    "plt.figure(figsize=(7,7))\n",
    "ax=sns.countplot(x='smoker', data= in_dt)\n",
    "plt.title('Smoker Distribution')\n",
    "\n",
    "for bars in ax.containers:\n",
    "    ax.bar_label(bars)\n",
    "plt.show()"
   ]
  },
  {
   "cell_type": "markdown",
   "id": "78fb58de",
   "metadata": {},
   "source": [
    "In the given dataset most of peoples are non smoker."
   ]
  },
  {
   "cell_type": "code",
   "execution_count": 21,
   "id": "a56fd39b",
   "metadata": {},
   "outputs": [
    {
     "data": {
      "image/png": "[encoded data removed]",
      "text/plain": [
       "<Figure size 504x504 with 1 Axes>"
      ]
     },
     "metadata": {},
     "output_type": "display_data"
    }
   ],
   "source": [
    "# region column\n",
    "\n",
    "plt.figure(figsize=(7,7))\n",
    "ax=sns.countplot(x='region', data= in_dt)\n",
    "plt.title('Region Distribution')\n",
    "\n",
    "for bars in ax.containers:\n",
    "    ax.bar_label(bars)\n",
    "plt.show()"
   ]
  },
  {
   "cell_type": "markdown",
   "id": "38de13c6",
   "metadata": {},
   "source": [
    "From this figure we found that most of the people in the dataset are from southeast region and same number of peoples are from southwest and northwest region. "
   ]
  },
  {
   "cell_type": "code",
   "execution_count": 23,
   "id": "d647718e",
   "metadata": {},
   "outputs": [
    {
     "name": "stderr",
     "output_type": "stream",
     "text": [
      "C:\\Users\\Bhabani Sankar\\anaconda3\\lib\\site-packages\\seaborn\\distributions.py:2619: FutureWarning: `distplot` is a deprecated function and will be removed in a future version. Please adapt your code to use either `displot` (a figure-level function with similar flexibility) or `histplot` (an axes-level function for histograms).\n",
      "  warnings.warn(msg, FutureWarning)\n"
     ]
    },
    {
     "data": {
      "image/png": "[encoded data removed]",
      "text/plain": [
       "<Figure size 504x504 with 1 Axes>"
      ]
     },
     "metadata": {},
     "output_type": "display_data"
    }
   ],
   "source": [
    "# distribution of charges value\n",
    "\n",
    "plt.figure(figsize=(7,7))\n",
    "sns.distplot(in_dt['charges'])\n",
    "plt.title('Charges Distribution')\n",
    "plt.show()"
   ]
  },
  {
   "cell_type": "markdown",
   "id": "2b1561c0",
   "metadata": {},
   "source": [
    "Most of the charges are in the range of 2000 to 10000."
   ]
  },
  {
   "cell_type": "markdown",
   "id": "87a6ef6b",
   "metadata": {},
   "source": [
    "### Data Preprocessing"
   ]
  },
  {
   "cell_type": "markdown",
   "id": "5d9295ad",
   "metadata": {},
   "source": [
    "#### Encoding the categorical features"
   ]
  },
  {
   "cell_type": "markdown",
   "id": "25bdecac",
   "metadata": {},
   "source": [
    "We have three categorical columns in the dataset that are 'sex', 'smoker' and 'region'. We can't feed them into our machine learning models as computer doesn't understand the text value. So we have to convert it into numerical value. This process is called 'encoding'."
   ]
  },
  {
   "cell_type": "code",
   "execution_count": 6,
   "id": "7fa57e25",
   "metadata": {},
   "outputs": [],
   "source": [
    "# encoding sex column\n",
    "in_dt.replace({'sex':{'male':0, 'female':1}}, inplace=True)\n",
    "\n",
    "\n",
    "# encoding 'smoker' column\n",
    "in_dt.replace({'smoker':{'yes':0, 'no':1}}, inplace=True)\n",
    "\n",
    "\n",
    "# encoding 'region' column\n",
    "in_dt.replace({'region':{'southeast':0,'southwest':1,'northeast':2,'northwest':3}}, inplace=True)"
   ]
  },
  {
   "cell_type": "code",
   "execution_count": 7,
   "id": "8143f5fe",
   "metadata": {},
   "outputs": [
    {
     "data": {
      "text/html": [
       "<div>\n",
       "<style scoped>\n",
       "    .dataframe tbody tr th:only-of-type {\n",
       "        vertical-align: middle;\n",
       "    }\n",
       "\n",
       "    .dataframe tbody tr th {\n",
       "        vertical-align: top;\n",
       "    }\n",
       "\n",
       "    .dataframe thead th {\n",
       "        text-align: right;\n",
       "    }\n",
       "</style>\n",
       "<table border=\"1\" class=\"dataframe\">\n",
       "  <thead>\n",
       "    <tr style=\"text-align: right;\">\n",
       "      <th></th>\n",
       "      <th>age</th>\n",
       "      <th>sex</th>\n",
       "      <th>bmi</th>\n",
       "      <th>children</th>\n",
       "      <th>smoker</th>\n",
       "      <th>region</th>\n",
       "      <th>charges</th>\n",
       "    </tr>\n",
       "  </thead>\n",
       "  <tbody>\n",
       "    <tr>\n",
       "      <th>0</th>\n",
       "      <td>19</td>\n",
       "      <td>1</td>\n",
       "      <td>27.900</td>\n",
       "      <td>0</td>\n",
       "      <td>0</td>\n",
       "      <td>1</td>\n",
       "      <td>16884.92400</td>\n",
       "    </tr>\n",
       "    <tr>\n",
       "      <th>1</th>\n",
       "      <td>18</td>\n",
       "      <td>0</td>\n",
       "      <td>33.770</td>\n",
       "      <td>1</td>\n",
       "      <td>1</td>\n",
       "      <td>0</td>\n",
       "      <td>1725.55230</td>\n",
       "    </tr>\n",
       "    <tr>\n",
       "      <th>2</th>\n",
       "      <td>28</td>\n",
       "      <td>0</td>\n",
       "      <td>33.000</td>\n",
       "      <td>3</td>\n",
       "      <td>1</td>\n",
       "      <td>0</td>\n",
       "      <td>4449.46200</td>\n",
       "    </tr>\n",
       "    <tr>\n",
       "      <th>3</th>\n",
       "      <td>33</td>\n",
       "      <td>0</td>\n",
       "      <td>22.705</td>\n",
       "      <td>0</td>\n",
       "      <td>1</td>\n",
       "      <td>3</td>\n",
       "      <td>21984.47061</td>\n",
       "    </tr>\n",
       "    <tr>\n",
       "      <th>4</th>\n",
       "      <td>32</td>\n",
       "      <td>0</td>\n",
       "      <td>28.880</td>\n",
       "      <td>0</td>\n",
       "      <td>1</td>\n",
       "      <td>3</td>\n",
       "      <td>3866.85520</td>\n",
       "    </tr>\n",
       "    <tr>\n",
       "      <th>5</th>\n",
       "      <td>31</td>\n",
       "      <td>1</td>\n",
       "      <td>25.740</td>\n",
       "      <td>0</td>\n",
       "      <td>1</td>\n",
       "      <td>0</td>\n",
       "      <td>3756.62160</td>\n",
       "    </tr>\n",
       "    <tr>\n",
       "      <th>6</th>\n",
       "      <td>46</td>\n",
       "      <td>1</td>\n",
       "      <td>33.440</td>\n",
       "      <td>1</td>\n",
       "      <td>1</td>\n",
       "      <td>0</td>\n",
       "      <td>8240.58960</td>\n",
       "    </tr>\n",
       "    <tr>\n",
       "      <th>7</th>\n",
       "      <td>37</td>\n",
       "      <td>1</td>\n",
       "      <td>27.740</td>\n",
       "      <td>3</td>\n",
       "      <td>1</td>\n",
       "      <td>3</td>\n",
       "      <td>7281.50560</td>\n",
       "    </tr>\n",
       "    <tr>\n",
       "      <th>8</th>\n",
       "      <td>37</td>\n",
       "      <td>0</td>\n",
       "      <td>29.830</td>\n",
       "      <td>2</td>\n",
       "      <td>1</td>\n",
       "      <td>2</td>\n",
       "      <td>6406.41070</td>\n",
       "    </tr>\n",
       "    <tr>\n",
       "      <th>9</th>\n",
       "      <td>60</td>\n",
       "      <td>1</td>\n",
       "      <td>25.840</td>\n",
       "      <td>0</td>\n",
       "      <td>1</td>\n",
       "      <td>3</td>\n",
       "      <td>28923.13692</td>\n",
       "    </tr>\n",
       "  </tbody>\n",
       "</table>\n",
       "</div>"
      ],
      "text/plain": [
       "   age  sex     bmi  children  smoker  region      charges\n",
       "0   19    1  27.900         0       0       1  16884.92400\n",
       "1   18    0  33.770         1       1       0   1725.55230\n",
       "2   28    0  33.000         3       1       0   4449.46200\n",
       "3   33    0  22.705         0       1       3  21984.47061\n",
       "4   32    0  28.880         0       1       3   3866.85520\n",
       "5   31    1  25.740         0       1       0   3756.62160\n",
       "6   46    1  33.440         1       1       0   8240.58960\n",
       "7   37    1  27.740         3       1       3   7281.50560\n",
       "8   37    0  29.830         2       1       2   6406.41070\n",
       "9   60    1  25.840         0       1       3  28923.13692"
      ]
     },
     "execution_count": 7,
     "metadata": {},
     "output_type": "execute_result"
    }
   ],
   "source": [
    "in_dt.head(10)"
   ]
  },
  {
   "cell_type": "markdown",
   "id": "fd3a40e0",
   "metadata": {},
   "source": [
    "### Splitting the Features and Target"
   ]
  },
  {
   "cell_type": "markdown",
   "id": "3f9d8c97",
   "metadata": {},
   "source": [
    "In machine learning, we split the features and target column to train the model on the input data (features) and predict the output (target) separately. This helps the model learn and make accurate predictions based on the patterns and relationships between the features and the target variable.\n",
    "\n",
    "In the dataset 'age', 'sex', 'bmi', 'children', 'smoker', 'region' are features columns and 'charges' column is target column."
   ]
  },
  {
   "cell_type": "code",
   "execution_count": 12,
   "id": "6c2e08dd",
   "metadata": {},
   "outputs": [],
   "source": [
    "X= in_dt.drop(columns='charges', axis = 1)\n",
    "Y= in_dt['charges']"
   ]
  },
  {
   "cell_type": "code",
   "execution_count": 13,
   "id": "3c1055a4",
   "metadata": {},
   "outputs": [
    {
     "name": "stdout",
     "output_type": "stream",
     "text": [
      "      age  sex     bmi  children  smoker  region\n",
      "0      19    1  27.900         0       0       1\n",
      "1      18    0  33.770         1       1       0\n",
      "2      28    0  33.000         3       1       0\n",
      "3      33    0  22.705         0       1       3\n",
      "4      32    0  28.880         0       1       3\n",
      "...   ...  ...     ...       ...     ...     ...\n",
      "1333   50    0  30.970         3       1       3\n",
      "1334   18    1  31.920         0       1       2\n",
      "1335   18    1  36.850         0       1       0\n",
      "1336   21    1  25.800         0       1       1\n",
      "1337   61    1  29.070         0       0       3\n",
      "\n",
      "[1338 rows x 6 columns]\n"
     ]
    }
   ],
   "source": [
    "print(X)"
   ]
  },
  {
   "cell_type": "code",
   "execution_count": 14,
   "id": "84735972",
   "metadata": {},
   "outputs": [
    {
     "name": "stdout",
     "output_type": "stream",
     "text": [
      "0       16884.92400\n",
      "1        1725.55230\n",
      "2        4449.46200\n",
      "3       21984.47061\n",
      "4        3866.85520\n",
      "           ...     \n",
      "1333    10600.54830\n",
      "1334     2205.98080\n",
      "1335     1629.83350\n",
      "1336     2007.94500\n",
      "1337    29141.36030\n",
      "Name: charges, Length: 1338, dtype: float64\n"
     ]
    }
   ],
   "source": [
    "print(Y)"
   ]
  },
  {
   "cell_type": "markdown",
   "id": "a55e1b2a",
   "metadata": {},
   "source": [
    "#### Splitting the data into Training data & Testing Data"
   ]
  },
  {
   "cell_type": "markdown",
   "id": "eff030c6",
   "metadata": {},
   "source": [
    "Splitting the data into training and testing sets allows us to train the machine learning model on one portion of the data (training data) and then check its performance on unseen data (testing data) to ensure it can generalize well and make accurate predictions for new, unseen examples."
   ]
  },
  {
   "cell_type": "code",
   "execution_count": 15,
   "id": "875c796f",
   "metadata": {},
   "outputs": [
    {
     "name": "stdout",
     "output_type": "stream",
     "text": [
      "(1338, 6) (1070, 6) (268, 6)\n"
     ]
    }
   ],
   "source": [
    "X_train, X_test, Y_train, Y_test = train_test_split(X, Y, test_size=0.2, random_state=2)\n",
    "\n",
    "\n",
    "# we are splitting the dataset into two parts: X_train and Y_train, which will be used for training the machine learning model,\n",
    "#  and X_test and Y_test, which will be used to evaluate the model's performance. The 'test_size=0.2' indicates that 20% of \n",
    "#  the data will be allocated for testing and 80% of the data will be the training data, while 'random_state=2' ensures that\n",
    "#  the data split remains consistent whenever we run the code with the same random state value\n",
    "\n",
    "\n",
    "print(X.shape, X_train.shape, X_test.shape)"
   ]
  },
  {
   "cell_type": "markdown",
   "id": "c0c39fbc",
   "metadata": {},
   "source": [
    "### Linear Regression Model"
   ]
  },
  {
   "cell_type": "code",
   "execution_count": 19,
   "id": "ebe4ecfb",
   "metadata": {},
   "outputs": [],
   "source": [
    "# loading the Linear Regression model\n",
    "\n",
    "regressor= LinearRegression()"
   ]
  },
  {
   "cell_type": "code",
   "execution_count": 21,
   "id": "e55da370",
   "metadata": {},
   "outputs": [
    {
     "data": {
      "text/plain": [
       "LinearRegression()"
      ]
     },
     "execution_count": 21,
     "metadata": {},
     "output_type": "execute_result"
    }
   ],
   "source": [
    "regressor.fit(X_train, Y_train)\n",
    "\n",
    "\n",
    "# we are training the regressor (machine learning model) using the training data (X_train and Y_train), allowing it to learn \n",
    "#   from the input features (X_train) and their corresponding target values (Y_train)."
   ]
  },
  {
   "cell_type": "markdown",
   "id": "3e66cf39",
   "metadata": {},
   "source": [
    "#### Model evaluation"
   ]
  },
  {
   "cell_type": "code",
   "execution_count": 22,
   "id": "0188dd65",
   "metadata": {},
   "outputs": [],
   "source": [
    "# Prediction on training data\n",
    "\n",
    "training_data_prediction=regressor.predict(X_train)\n",
    "\n",
    "# In this query, the machine learning model (regressor) predicts the target variable (Y) for the training data (X_train), \n",
    "# and the results are stored in the variable 'training_data_prediction.'"
   ]
  },
  {
   "cell_type": "code",
   "execution_count": 24,
   "id": "a8500f75",
   "metadata": {},
   "outputs": [
    {
     "name": "stdout",
     "output_type": "stream",
     "text": [
      "R square value: 0.751505643411174\n"
     ]
    }
   ],
   "source": [
    "# R square value\n",
    "\n",
    "R2_train= metrics.r2_score(Y_train, training_data_prediction)\n",
    "print('R square value:', R2_train)"
   ]
  },
  {
   "cell_type": "markdown",
   "id": "2a33a684",
   "metadata": {},
   "source": [
    "We calculate the R-squared (R2) score, a metric that measures how well the machine learning model's predictions (training_data_prediction) align with the actual target values (Y_train) for the training data. \n",
    "\n",
    "The R2 score indicates the percentage of the variance in the target variable that is explained by the model's predictions, with higher values (closer to 1) indicating a better fit."
   ]
  },
  {
   "cell_type": "code",
   "execution_count": 27,
   "id": "a4173b40",
   "metadata": {},
   "outputs": [],
   "source": [
    "# Prediction on testing data\n",
    "\n",
    "testing_data_prediction=regressor.predict(X_test)\n",
    "\n",
    "\n",
    "# In this query, the machine learning model (regressor) predicts the target variable for the testing data (X_test), \n",
    "# and the results are stored in the variable 'testing_data_prediction.' These predictions will be used to evaluate the\n",
    "# model's performance on unseen data."
   ]
  },
  {
   "cell_type": "code",
   "execution_count": 29,
   "id": "918d7abb",
   "metadata": {},
   "outputs": [
    {
     "name": "stdout",
     "output_type": "stream",
     "text": [
      "R square value: 0.7447273869684077\n"
     ]
    }
   ],
   "source": [
    "# R squared value\n",
    "\n",
    "R2_test = metrics.r2_score(Y_test, testing_data_prediction)\n",
    "print('R square value:', R2_test)"
   ]
  },
  {
   "cell_type": "markdown",
   "id": "c7f7b6e3",
   "metadata": {},
   "source": [
    "Calculating both the R-squared (R2) values for training data and testing data is necessary to assess how well the machine learning model performs on both the data it was trained on and on new, unseen data.\n",
    "\n",
    "1)- R2 for Training Data: It tells us how well the model fits the training data and indicates the percentage of variance in the target variable that the model explains using the training data.\n",
    "\n",
    "2)- R2 for Testing Data: It measures how well the model generalizes to new, unseen data. If the R2 score for testing data is significantly lower than that of training data, it suggests that the model may be overfitting to the training data and may not perform well on new data.\n",
    "\n",
    "By comparing the R2 scores for both datasets, we can understand if the model is adequately capturing the patterns in the data without memorizing the training data and can make reliable predictions on unseen data."
   ]
  },
  {
   "cell_type": "markdown",
   "id": "88e0d08c",
   "metadata": {},
   "source": [
    "### Building a Predictive System"
   ]
  },
  {
   "cell_type": "code",
   "execution_count": 32,
   "id": "ea487a86",
   "metadata": {},
   "outputs": [
    {
     "name": "stdout",
     "output_type": "stream",
     "text": [
      "[10657.40884992]\n",
      "The insurance cost is  10657.408849921463\n"
     ]
    },
    {
     "name": "stderr",
     "output_type": "stream",
     "text": [
      "C:\\Users\\Bhabani Sankar\\anaconda3\\lib\\site-packages\\sklearn\\base.py:450: UserWarning: X does not have valid feature names, but LinearRegression was fitted with feature names\n",
      "  warnings.warn(\n"
     ]
    }
   ],
   "source": [
    "input_data=(46,1,33.44,1,1,0)\n",
    "\n",
    "# changing the input_data to a numpy array\n",
    "input_data_as_numpy_array= np.asarray(input_data)\n",
    "\n",
    "# reshape the array\n",
    "input_data_reshaped= input_data_as_numpy_array.reshape(1,-1)\n",
    "\n",
    "prediction= regressor.predict(input_data_reshaped)\n",
    "\n",
    "print(prediction)\n",
    "print('The insurance cost is ', prediction[0])"
   ]
  },
  {
   "cell_type": "markdown",
   "id": "dff916a0",
   "metadata": {},
   "source": [
    "1) np.asarray(input_data): The input data is converted into a NumPy array, which is a data structure widely used in Python for numerical computations.\n",
    "\n",
    "2) input_data_as_numpy_array.reshape(1, -1): The array is reshaped into a format suitable for prediction. The -1 in the reshape function means that the number of columns is automatically inferred based on the input data's size, while 1 indicates that the data will be treated as a single sample.\n",
    "\n",
    "3) regressor.predict(input_data_reshaped): The trained regression model (regressor) predicts the medical insurance cost using the reshaped input data.\n",
    "\n",
    "4) print(prediction): The prediction, which is the estimated insurance cost, is printed.\n",
    "\n",
    "5) print('The insurance cost is ', prediction[0]): The final output is printed in a human-readable format, stating the predicted insurance cost for the provided input data.\n",
    "\n"
   ]
  },
  {
   "cell_type": "markdown",
   "id": "1eb61184",
   "metadata": {},
   "source": [
    "### Conclusion"
   ]
  },
  {
   "cell_type": "markdown",
   "id": "a4875f4d",
   "metadata": {},
   "source": [
    "  This machine learning project successfully developed an automatic system that predicts medical insurance costs based on various attributes. By training and evaluating the model on historical data, we can now provide accurate and personalized insurance cost estimates to potential clients, improving decision-making for the insurance company and enhancing customer satisfaction. This predictive system proves to be a valuable tool for the insurance industry, streamlining pricing strategies and offering more reliable insurance premium estimates to individuals and their families."
   ]
  },
  {
   "cell_type": "code",
   "execution_count": null,
   "id": "af80213c",
   "metadata": {},
   "outputs": [],
   "source": []
  }
 ],
 "metadata": {
  "kernelspec": {
   "display_name": "Python 3 (ipykernel)",
   "language": "python",
   "name": "python3"
  },
  "language_info": {
   "codemirror_mode": {
    "name": "ipython",
    "version": 3
   },
   "file_extension": ".py",
   "mimetype": "text/x-python",
   "name": "python",
   "nbconvert_exporter": "python",
   "pygments_lexer": "ipython3",
   "version": "3.9.12"
  }
 },
 "nbformat": 4,
 "nbformat_minor": 5
}
